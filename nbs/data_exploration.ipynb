{
 "cells": [
  {
   "cell_type": "markdown",
   "id": "8b96842b-7d91-4733-beef-64bf835b8655",
   "metadata": {},
   "source": [
    "# Muse Data Exploration\n",
    "In this code, we seek to explore the MuSE data"
   ]
  },
  {
   "cell_type": "code",
   "execution_count": 16,
   "id": "6c06729b-941c-4a16-a8da-2e874154c283",
   "metadata": {},
   "outputs": [],
   "source": [
    "import pandas as pd\n",
    "from os import listdir\n",
    "from os.path import isfile, join"
   ]
  },
  {
   "cell_type": "code",
   "execution_count": 39,
   "id": "43e177bb-6ce5-4091-9d25-0971217eb60f",
   "metadata": {},
   "outputs": [],
   "source": [
    "source = '/home/brandon/ExpanDrive/Box/TRI_Data_LREC_2020'"
   ]
  },
  {
   "cell_type": "markdown",
   "id": "642644b7-38ea-4954-a29c-25faf5ad81e3",
   "metadata": {},
   "source": [
    "## Video"
   ]
  },
  {
   "cell_type": "code",
   "execution_count": 47,
   "id": "466f0b26-6797-4767-bdfd-8e3a26e321d1",
   "metadata": {},
   "outputs": [],
   "source": [
    "s_video_source = source + '/Stressed/Video_Close/processed/'"
   ]
  },
  {
   "cell_type": "code",
   "execution_count": 48,
   "id": "a794be67-d084-4246-b029-5d2740cdcc46",
   "metadata": {},
   "outputs": [
    {
     "name": "stdout",
     "output_type": "stream",
     "text": [
      "S01_Neutral_closeup.csv\t\t S16_Neutral_closeup.csv\n",
      "S01_Question1_closeup.csv\t S16_Question1_closeup.csv\n",
      "S01_Question2_closeup.csv\t S16_Question2_closeup.csv\n",
      "S01_Question3_closeup.csv\t S16_Question3_closeup.csv\n",
      "S01_Question4_closeup.csv\t S16_Question4_closeup.csv\n",
      "S01_Question5_closeup.csv\t S16_Question5_closeup.csv\n",
      "S01_Video1_closeup.csv\t\t S16_Video1_closeup.csv\n",
      "S01_Video2_closeup.csv\t\t S16_Video2_closeup.csv\n",
      "S01_Video3_closeup.csv\t\t S16_Video3_closeup.csv\n",
      "S01_Video4_closeup.csv\t\t S16_Video4_closeup.csv\n",
      "S01_VideoMonologue1_closeup.csv  S16_VideoMonologue1_closeup.csv\n",
      "S01_VideoMonologue2_closeup.csv  S16_VideoMonologue2_closeup.csv\n",
      "S01_VideoMonologue3_closeup.csv  S16_VideoMonologue3_closeup.csv\n",
      "S01_VideoMonologue4_closeup.csv  S16_VideoMonologue4_closeup.csv\n",
      "S04_Neutral_closeup.csv\t\t S17_Neutral_closeup.csv\n",
      "S04_Question1_closeup.csv\t S17_Question1_closeup.csv\n",
      "S04_Question2_closeup.csv\t S17_Question2_closeup.csv\n",
      "S04_Question3_closeup.csv\t S17_Question3_closeup.csv\n",
      "S04_Question4_closeup.csv\t S17_Question4_closeup.csv\n",
      "S04_Question5_closeup.csv\t S17_Question5_closeup.csv\n",
      "S04_Video1_closeup.csv\t\t S17_Video1_closeup.csv\n",
      "S04_Video2_closeup.csv\t\t S17_Video2_closeup.csv\n",
      "S04_Video3_closeup.csv\t\t S17_Video3_closeup.csv\n",
      "S04_Video4_closeup.csv\t\t S17_Video4_closeup.csv\n",
      "S04_VideoMonologue1_closeup.csv  S17_VideoMonologue1_closeup.csv\n",
      "S04_VideoMonologue2_closeup.csv  S17_VideoMonologue2_closeup.csv\n",
      "S04_VideoMonologue3_closeup.csv  S17_VideoMonologue3_closeup.csv\n",
      "S04_VideoMonologue4_closeup.csv  S17_VideoMonologue4_closeup.csv\n",
      "S05_Neutral_closeup.csv\t\t S19_Neutral_closeup.csv\n",
      "S05_Question1_closeup.csv\t S19_Question1_closeup.csv\n",
      "S05_Question2_closeup.csv\t S19_Question2_closeup.csv\n",
      "S05_Question3_closeup.csv\t S19_Question3_closeup.csv\n",
      "S05_Question4_closeup.csv\t S19_Question4_closeup.csv\n",
      "S05_Question5_closeup.csv\t S19_Question5_closeup.csv\n",
      "S05_Video1_closeup.csv\t\t S19_Video1_closeup.csv\n",
      "S05_Video2_closeup.csv\t\t S19_Video2_closeup.csv\n",
      "S05_Video3_closeup.csv\t\t S19_Video3_closeup.csv\n",
      "S05_Video4_closeup.csv\t\t S19_Video4_closeup.csv\n",
      "S05_VideoMonologue1_closeup.csv  S19_VideoMonologue1_closeup.csv\n",
      "S05_VideoMonologue2_closeup.csv  S19_VideoMonologue2_closeup.csv\n",
      "S05_VideoMonologue3_closeup.csv  S19_VideoMonologue3_closeup.csv\n",
      "S05_VideoMonologue4_closeup.csv  S19_VideoMonologue4_closeup.csv\n",
      "S07_Neutral_closeup.csv\t\t S20_Question1_closeup.csv\n",
      "S07_Question1_closeup.csv\t S20_Question2_closeup.csv\n",
      "S07_Question2_closeup.csv\t S20_Question3_closeup.csv\n",
      "S07_Question3_closeup.csv\t S20_Question4_closeup.csv\n",
      "S07_Question4_closeup.csv\t S20_Question5_closeup.csv\n",
      "S07_Question5_closeup.csv\t S20_Video1_closeup.csv\n",
      "S07_Video1_closeup.csv\t\t S20_Video2_closeup.csv\n",
      "S07_Video2_closeup.csv\t\t S20_Video3_closeup.csv\n",
      "S07_Video3_closeup.csv\t\t S20_Video4_closeup.csv\n",
      "S07_Video4_closeup.csv\t\t S20_VideoMonologue1_closeup.csv\n",
      "S07_VideoMonologue1_closeup.csv  S20_VideoMonologue2_closeup.csv\n",
      "S07_VideoMonologue2_closeup.csv  S20_VideoMonologue3_closeup.csv\n",
      "S07_VideoMonologue3_closeup.csv  S20_VideoMonologue4_closeup.csv\n",
      "S07_VideoMonologue4_closeup.csv  S21_Neutral_closeup.csv\n",
      "S08_Neutral_closeup.csv\t\t S21_Question1_closeup.csv\n",
      "S08_Question1_closeup.csv\t S21_Question2_closeup.csv\n",
      "S08_Question2_closeup.csv\t S21_Question3_closeup.csv\n",
      "S08_Question3_closeup.csv\t S21_Question4_closeup.csv\n",
      "S08_Question4_closeup.csv\t S21_Question5_closeup.csv\n",
      "S08_Question5_closeup.csv\t S21_Video1_closeup.csv\n",
      "S08_Video1_closeup.csv\t\t S21_Video2_closeup.csv\n",
      "S08_Video2_closeup.csv\t\t S21_Video3_closeup.csv\n",
      "S08_Video3_closeup.csv\t\t S21_Video4_closeup.csv\n",
      "S08_Video4_closeup.csv\t\t S21_VideoMonologue1_closeup.csv\n",
      "S08_VideoMonologue1_closeup.csv  S21_VideoMonologue2_closeup.csv\n",
      "S08_VideoMonologue2_closeup.csv  S21_VideoMonologue3_closeup.csv\n",
      "S08_VideoMonologue3_closeup.csv  S21_VideoMonologue4_closeup.csv\n",
      "S08_VideoMonologue4_closeup.csv  S22_Neutral_closeup.csv\n",
      "S09_Neutral_closeup.csv\t\t S22_Question1_closeup.csv\n",
      "S09_Question1_closeup.csv\t S22_Question2_closeup.csv\n",
      "S09_Question2_closeup.csv\t S22_Question3_closeup.csv\n",
      "S09_Question3_closeup.csv\t S22_Question4_closeup.csv\n",
      "S09_Question4_closeup.csv\t S22_Question5_closeup.csv\n",
      "S09_Question5_closeup.csv\t S22_Video1_closeup.csv\n",
      "S09_Video1_closeup.csv\t\t S22_Video2_closeup.csv\n",
      "S09_Video2_closeup.csv\t\t S22_Video3_closeup.csv\n",
      "S09_Video3_closeup.csv\t\t S22_Video4_closeup.csv\n",
      "S09_Video4_closeup.csv\t\t S22_VideoMonologue1_closeup.csv\n",
      "S09_VideoMonologue1_closeup.csv  S22_VideoMonologue2_closeup.csv\n",
      "S09_VideoMonologue2_closeup.csv  S22_VideoMonologue3_closeup.csv\n",
      "S09_VideoMonologue3_closeup.csv  S22_VideoMonologue4_closeup.csv\n",
      "S09_VideoMonologue4_closeup.csv  S24_Neutral_closeup.csv\n",
      "S10_Neutral_closeup.csv\t\t S24_Question1_closeup.csv\n",
      "S10_Question1_closeup.csv\t S24_Question2_closeup.csv\n",
      "S10_Question2_closeup.csv\t S24_Question3_closeup.csv\n",
      "S10_Question3_closeup.csv\t S24_Question4_closeup.csv\n",
      "S10_Question4_closeup.csv\t S24_Question5_closeup.csv\n",
      "S10_Question5_closeup.csv\t S24_Video1_closeup.csv\n",
      "S10_Video1_closeup.csv\t\t S24_Video2_closeup.csv\n",
      "S10_Video2_closeup.csv\t\t S24_Video3_closeup.csv\n",
      "S10_Video3_closeup.csv\t\t S24_Video4_closeup.csv\n",
      "S10_Video4_closeup.csv\t\t S24_VideoMonologue1_closeup.csv\n",
      "S10_VideoMonologue1_closeup.csv  S24_VideoMonologue2_closeup.csv\n",
      "S10_VideoMonologue2_closeup.csv  S24_VideoMonologue3_closeup.csv\n",
      "S10_VideoMonologue3_closeup.csv  S24_VideoMonologue4_closeup.csv\n",
      "S10_VideoMonologue4_closeup.csv  S25_Neutral_closeup.csv\n",
      "S11_Neutral_closeup.csv\t\t S25_Question1_closeup.csv\n",
      "S11_Question1_closeup.csv\t S25_Question2_closeup.csv\n",
      "S11_Question2_closeup.csv\t S25_Question3_closeup.csv\n",
      "S11_Question3_closeup.csv\t S25_Question4_closeup.csv\n",
      "S11_Question4_closeup.csv\t S25_Question5_closeup.csv\n",
      "S11_Question5_closeup.csv\t S25_Video1_closeup.csv\n",
      "S11_Video1_closeup.csv\t\t S25_Video2_closeup.csv\n",
      "S11_Video2_closeup.csv\t\t S25_Video3_closeup.csv\n",
      "S11_Video3_closeup.csv\t\t S25_Video4_closeup.csv\n",
      "S11_Video4_closeup.csv\t\t S25_VideoMonologue1_closeup.csv\n",
      "S11_VideoMonologue1_closeup.csv  S25_VideoMonologue2_closeup.csv\n",
      "S11_VideoMonologue2_closeup.csv  S25_VideoMonologue3_closeup.csv\n",
      "S11_VideoMonologue3_closeup.csv  S25_VideoMonologue4_closeup.csv\n",
      "S11_VideoMonologue4_closeup.csv  S26_Neutral_closeup.csv\n",
      "S12_Neutral_closeup.csv\t\t S26_Question1_closeup.csv\n",
      "S12_Question1_closeup.csv\t S26_Question2_closeup.csv\n",
      "S12_Question2_closeup.csv\t S26_Question3_closeup.csv\n",
      "S12_Question3_closeup.csv\t S26_Question4_closeup.csv\n",
      "S12_Question4_closeup.csv\t S26_Question5_closeup.csv\n",
      "S12_Question5_closeup.csv\t S26_Video1_closeup.csv\n",
      "S12_Video1_closeup.csv\t\t S26_Video2_closeup.csv\n",
      "S12_Video2_closeup.csv\t\t S26_Video3_closeup.csv\n",
      "S12_Video3_closeup.csv\t\t S26_Video4_closeup.csv\n",
      "S12_Video4_closeup.csv\t\t S26_VideoMonologue1_closeup.csv\n",
      "S12_VideoMonologue1_closeup.csv  S26_VideoMonologue2_closeup.csv\n",
      "S12_VideoMonologue2_closeup.csv  S26_VideoMonologue3_closeup.csv\n",
      "S12_VideoMonologue3_closeup.csv  S26_VideoMonologue4_closeup.csv\n",
      "S12_VideoMonologue4_closeup.csv  S27_Neutral_closeup.csv\n",
      "S14_Neutral_closeup.csv\t\t S27_Question1_closeup.csv\n",
      "S14_Question1_closeup.csv\t S27_Question2_closeup.csv\n",
      "S14_Question2_closeup.csv\t S27_Question3_closeup.csv\n",
      "S14_Question3_closeup.csv\t S27_Question4_closeup.csv\n",
      "S14_Question4_closeup.csv\t S27_Question5_closeup.csv\n",
      "S14_Question5_closeup.csv\t S27_Video1_closeup.csv\n",
      "S14_Video1_closeup.csv\t\t S27_Video2_closeup.csv\n",
      "S14_Video2_closeup.csv\t\t S27_Video3_closeup.csv\n",
      "S14_Video3_closeup.csv\t\t S27_Video4_closeup.csv\n",
      "S14_Video4_closeup.csv\t\t S27_VideoMonologue1_closeup.csv\n",
      "S14_VideoMonologue1_closeup.csv  S27_VideoMonologue2_closeup.csv\n",
      "S14_VideoMonologue2_closeup.csv  S27_VideoMonologue3_closeup.csv\n",
      "S14_VideoMonologue3_closeup.csv  S27_VideoMonologue4_closeup.csv\n",
      "S14_VideoMonologue4_closeup.csv  S28_Neutral_closeup.csv\n",
      "S15_Neutral_closeup.csv\t\t S28_Question1_closeup.csv\n",
      "S15_Question1_closeup.csv\t S28_Question2_closeup.csv\n",
      "S15_Question2_closeup.csv\t S28_Question3_closeup.csv\n",
      "S15_Question3_closeup.csv\t S28_Question4_closeup.csv\n",
      "S15_Question4_closeup.csv\t S28_Question5_closeup.csv\n",
      "S15_Question5_closeup.csv\t S28_Video1_closeup.csv\n",
      "S15_Video1_closeup.csv\t\t S28_Video2_closeup.csv\n",
      "S15_Video2_closeup.csv\t\t S28_Video3_closeup.csv\n",
      "S15_Video3_closeup.csv\t\t S28_Video4_closeup.csv\n",
      "S15_Video4_closeup.csv\t\t S28_VideoMonologue1_closeup.csv\n",
      "S15_VideoMonologue1_closeup.csv  S28_VideoMonologue2_closeup.csv\n",
      "S15_VideoMonologue2_closeup.csv  S28_VideoMonologue3_closeup.csv\n",
      "S15_VideoMonologue3_closeup.csv  S28_VideoMonologue4_closeup.csv\n",
      "S15_VideoMonologue4_closeup.csv\n"
     ]
    }
   ],
   "source": [
    "!ls {s_video_source}"
   ]
  },
  {
   "cell_type": "code",
   "execution_count": 49,
   "id": "4138a0f7-3f4c-4e66-9043-3f75d8781282",
   "metadata": {},
   "outputs": [],
   "source": [
    "s_video_files = [f for f in listdir(s_video_source) if isfile(join(s_video_source,f))]"
   ]
  },
  {
   "cell_type": "code",
   "execution_count": 52,
   "id": "eb56831c-d991-404c-a617-feff4e7e2a99",
   "metadata": {},
   "outputs": [
    {
     "ename": "OSError",
     "evalue": "[Errno 5] Input/output error",
     "output_type": "error",
     "traceback": [
      "\u001b[0;31m---------------------------------------------------------------------------\u001b[0m",
      "\u001b[0;31mOSError\u001b[0m                                   Traceback (most recent call last)",
      "\u001b[0;32m<ipython-input-52-ec0b119940f8>\u001b[0m in \u001b[0;36m<module>\u001b[0;34m\u001b[0m\n\u001b[0;32m----> 1\u001b[0;31m \u001b[0mpd\u001b[0m\u001b[0;34m.\u001b[0m\u001b[0mread_csv\u001b[0m\u001b[0;34m(\u001b[0m\u001b[0ms_video_source\u001b[0m \u001b[0;34m+\u001b[0m \u001b[0ms_video_files\u001b[0m\u001b[0;34m[\u001b[0m\u001b[0;36m10\u001b[0m\u001b[0;34m]\u001b[0m\u001b[0;34m)\u001b[0m\u001b[0;34m\u001b[0m\u001b[0;34m\u001b[0m\u001b[0m\n\u001b[0m",
      "\u001b[0;32m~/src/muse-analysis/.venv/lib/python3.8/site-packages/pandas/io/parsers.py\u001b[0m in \u001b[0;36mread_csv\u001b[0;34m(filepath_or_buffer, sep, delimiter, header, names, index_col, usecols, squeeze, prefix, mangle_dupe_cols, dtype, engine, converters, true_values, false_values, skipinitialspace, skiprows, skipfooter, nrows, na_values, keep_default_na, na_filter, verbose, skip_blank_lines, parse_dates, infer_datetime_format, keep_date_col, date_parser, dayfirst, cache_dates, iterator, chunksize, compression, thousands, decimal, lineterminator, quotechar, quoting, doublequote, escapechar, comment, encoding, dialect, error_bad_lines, warn_bad_lines, delim_whitespace, low_memory, memory_map, float_precision, storage_options)\u001b[0m\n\u001b[1;32m    608\u001b[0m     \u001b[0mkwds\u001b[0m\u001b[0;34m.\u001b[0m\u001b[0mupdate\u001b[0m\u001b[0;34m(\u001b[0m\u001b[0mkwds_defaults\u001b[0m\u001b[0;34m)\u001b[0m\u001b[0;34m\u001b[0m\u001b[0;34m\u001b[0m\u001b[0m\n\u001b[1;32m    609\u001b[0m \u001b[0;34m\u001b[0m\u001b[0m\n\u001b[0;32m--> 610\u001b[0;31m     \u001b[0;32mreturn\u001b[0m \u001b[0m_read\u001b[0m\u001b[0;34m(\u001b[0m\u001b[0mfilepath_or_buffer\u001b[0m\u001b[0;34m,\u001b[0m \u001b[0mkwds\u001b[0m\u001b[0;34m)\u001b[0m\u001b[0;34m\u001b[0m\u001b[0;34m\u001b[0m\u001b[0m\n\u001b[0m\u001b[1;32m    611\u001b[0m \u001b[0;34m\u001b[0m\u001b[0m\n\u001b[1;32m    612\u001b[0m \u001b[0;34m\u001b[0m\u001b[0m\n",
      "\u001b[0;32m~/src/muse-analysis/.venv/lib/python3.8/site-packages/pandas/io/parsers.py\u001b[0m in \u001b[0;36m_read\u001b[0;34m(filepath_or_buffer, kwds)\u001b[0m\n\u001b[1;32m    460\u001b[0m \u001b[0;34m\u001b[0m\u001b[0m\n\u001b[1;32m    461\u001b[0m     \u001b[0;31m# Create the parser.\u001b[0m\u001b[0;34m\u001b[0m\u001b[0;34m\u001b[0m\u001b[0;34m\u001b[0m\u001b[0m\n\u001b[0;32m--> 462\u001b[0;31m     \u001b[0mparser\u001b[0m \u001b[0;34m=\u001b[0m \u001b[0mTextFileReader\u001b[0m\u001b[0;34m(\u001b[0m\u001b[0mfilepath_or_buffer\u001b[0m\u001b[0;34m,\u001b[0m \u001b[0;34m**\u001b[0m\u001b[0mkwds\u001b[0m\u001b[0;34m)\u001b[0m\u001b[0;34m\u001b[0m\u001b[0;34m\u001b[0m\u001b[0m\n\u001b[0m\u001b[1;32m    463\u001b[0m \u001b[0;34m\u001b[0m\u001b[0m\n\u001b[1;32m    464\u001b[0m     \u001b[0;32mif\u001b[0m \u001b[0mchunksize\u001b[0m \u001b[0;32mor\u001b[0m \u001b[0miterator\u001b[0m\u001b[0;34m:\u001b[0m\u001b[0;34m\u001b[0m\u001b[0;34m\u001b[0m\u001b[0m\n",
      "\u001b[0;32m~/src/muse-analysis/.venv/lib/python3.8/site-packages/pandas/io/parsers.py\u001b[0m in \u001b[0;36m__init__\u001b[0;34m(self, f, engine, **kwds)\u001b[0m\n\u001b[1;32m    817\u001b[0m             \u001b[0mself\u001b[0m\u001b[0;34m.\u001b[0m\u001b[0moptions\u001b[0m\u001b[0;34m[\u001b[0m\u001b[0;34m\"has_index_names\"\u001b[0m\u001b[0;34m]\u001b[0m \u001b[0;34m=\u001b[0m \u001b[0mkwds\u001b[0m\u001b[0;34m[\u001b[0m\u001b[0;34m\"has_index_names\"\u001b[0m\u001b[0;34m]\u001b[0m\u001b[0;34m\u001b[0m\u001b[0;34m\u001b[0m\u001b[0m\n\u001b[1;32m    818\u001b[0m \u001b[0;34m\u001b[0m\u001b[0m\n\u001b[0;32m--> 819\u001b[0;31m         \u001b[0mself\u001b[0m\u001b[0;34m.\u001b[0m\u001b[0m_engine\u001b[0m \u001b[0;34m=\u001b[0m \u001b[0mself\u001b[0m\u001b[0;34m.\u001b[0m\u001b[0m_make_engine\u001b[0m\u001b[0;34m(\u001b[0m\u001b[0mself\u001b[0m\u001b[0;34m.\u001b[0m\u001b[0mengine\u001b[0m\u001b[0;34m)\u001b[0m\u001b[0;34m\u001b[0m\u001b[0;34m\u001b[0m\u001b[0m\n\u001b[0m\u001b[1;32m    820\u001b[0m \u001b[0;34m\u001b[0m\u001b[0m\n\u001b[1;32m    821\u001b[0m     \u001b[0;32mdef\u001b[0m \u001b[0mclose\u001b[0m\u001b[0;34m(\u001b[0m\u001b[0mself\u001b[0m\u001b[0;34m)\u001b[0m\u001b[0;34m:\u001b[0m\u001b[0;34m\u001b[0m\u001b[0;34m\u001b[0m\u001b[0m\n",
      "\u001b[0;32m~/src/muse-analysis/.venv/lib/python3.8/site-packages/pandas/io/parsers.py\u001b[0m in \u001b[0;36m_make_engine\u001b[0;34m(self, engine)\u001b[0m\n\u001b[1;32m   1048\u001b[0m             )\n\u001b[1;32m   1049\u001b[0m         \u001b[0;31m# error: Too many arguments for \"ParserBase\"\u001b[0m\u001b[0;34m\u001b[0m\u001b[0;34m\u001b[0m\u001b[0;34m\u001b[0m\u001b[0m\n\u001b[0;32m-> 1050\u001b[0;31m         \u001b[0;32mreturn\u001b[0m \u001b[0mmapping\u001b[0m\u001b[0;34m[\u001b[0m\u001b[0mengine\u001b[0m\u001b[0;34m]\u001b[0m\u001b[0;34m(\u001b[0m\u001b[0mself\u001b[0m\u001b[0;34m.\u001b[0m\u001b[0mf\u001b[0m\u001b[0;34m,\u001b[0m \u001b[0;34m**\u001b[0m\u001b[0mself\u001b[0m\u001b[0;34m.\u001b[0m\u001b[0moptions\u001b[0m\u001b[0;34m)\u001b[0m  \u001b[0;31m# type: ignore[call-arg]\u001b[0m\u001b[0;34m\u001b[0m\u001b[0;34m\u001b[0m\u001b[0m\n\u001b[0m\u001b[1;32m   1051\u001b[0m \u001b[0;34m\u001b[0m\u001b[0m\n\u001b[1;32m   1052\u001b[0m     \u001b[0;32mdef\u001b[0m \u001b[0m_failover_to_python\u001b[0m\u001b[0;34m(\u001b[0m\u001b[0mself\u001b[0m\u001b[0;34m)\u001b[0m\u001b[0;34m:\u001b[0m\u001b[0;34m\u001b[0m\u001b[0;34m\u001b[0m\u001b[0m\n",
      "\u001b[0;32m~/src/muse-analysis/.venv/lib/python3.8/site-packages/pandas/io/parsers.py\u001b[0m in \u001b[0;36m__init__\u001b[0;34m(self, src, **kwds)\u001b[0m\n\u001b[1;32m   1896\u001b[0m \u001b[0;34m\u001b[0m\u001b[0m\n\u001b[1;32m   1897\u001b[0m         \u001b[0;32mtry\u001b[0m\u001b[0;34m:\u001b[0m\u001b[0;34m\u001b[0m\u001b[0;34m\u001b[0m\u001b[0m\n\u001b[0;32m-> 1898\u001b[0;31m             \u001b[0mself\u001b[0m\u001b[0;34m.\u001b[0m\u001b[0m_reader\u001b[0m \u001b[0;34m=\u001b[0m \u001b[0mparsers\u001b[0m\u001b[0;34m.\u001b[0m\u001b[0mTextReader\u001b[0m\u001b[0;34m(\u001b[0m\u001b[0mself\u001b[0m\u001b[0;34m.\u001b[0m\u001b[0mhandles\u001b[0m\u001b[0;34m.\u001b[0m\u001b[0mhandle\u001b[0m\u001b[0;34m,\u001b[0m \u001b[0;34m**\u001b[0m\u001b[0mkwds\u001b[0m\u001b[0;34m)\u001b[0m\u001b[0;34m\u001b[0m\u001b[0;34m\u001b[0m\u001b[0m\n\u001b[0m\u001b[1;32m   1899\u001b[0m         \u001b[0;32mexcept\u001b[0m \u001b[0mException\u001b[0m\u001b[0;34m:\u001b[0m\u001b[0;34m\u001b[0m\u001b[0;34m\u001b[0m\u001b[0m\n\u001b[1;32m   1900\u001b[0m             \u001b[0mself\u001b[0m\u001b[0;34m.\u001b[0m\u001b[0mhandles\u001b[0m\u001b[0;34m.\u001b[0m\u001b[0mclose\u001b[0m\u001b[0;34m(\u001b[0m\u001b[0;34m)\u001b[0m\u001b[0;34m\u001b[0m\u001b[0;34m\u001b[0m\u001b[0m\n",
      "\u001b[0;32mpandas/_libs/parsers.pyx\u001b[0m in \u001b[0;36mpandas._libs.parsers.TextReader.__cinit__\u001b[0;34m()\u001b[0m\n",
      "\u001b[0;32mpandas/_libs/parsers.pyx\u001b[0m in \u001b[0;36mpandas._libs.parsers.TextReader._get_header\u001b[0;34m()\u001b[0m\n",
      "\u001b[0;32mpandas/_libs/parsers.pyx\u001b[0m in \u001b[0;36mpandas._libs.parsers.TextReader._tokenize_rows\u001b[0;34m()\u001b[0m\n",
      "\u001b[0;32mpandas/_libs/parsers.pyx\u001b[0m in \u001b[0;36mpandas._libs.parsers.raise_parser_error\u001b[0;34m()\u001b[0m\n",
      "\u001b[0;31mOSError\u001b[0m: [Errno 5] Input/output error"
     ]
    }
   ],
   "source": [
    "pd.read_csv(s_video_source + s_video_files[10])"
   ]
  },
  {
   "cell_type": "code",
   "execution_count": null,
   "id": "0f479b54-952f-4c62-a44b-baa01da33625",
   "metadata": {},
   "outputs": [],
   "source": []
  }
 ],
 "metadata": {
  "kernelspec": {
   "display_name": "Python 3",
   "language": "python",
   "name": "python3"
  },
  "language_info": {
   "codemirror_mode": {
    "name": "ipython",
    "version": 3
   },
   "file_extension": ".py",
   "mimetype": "text/x-python",
   "name": "python",
   "nbconvert_exporter": "python",
   "pygments_lexer": "ipython3",
   "version": "3.8.6"
  }
 },
 "nbformat": 4,
 "nbformat_minor": 5
}
